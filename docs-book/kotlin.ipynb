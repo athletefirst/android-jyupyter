{
 "cells": [
  {
   "cell_type": "markdown",
   "id": "1a370f5f",
   "metadata": {},
   "source": [
    "# build.gradle.kts\n",
    "\n",
    "`assembleRelease`で、ビルドし、中間ファイルの`classes.jar`を`libandjupyter-release.jar`としてコピー\n",
    "\n",
    "```bash\n",
    "./gradlew :libandjupyter:copyReleaseJar\"\n",
    "```\n",
    "\n",
    "`./libandjupyter/build.gradle.kts`に次のタスクを追加する。\n",
    "\n",
    "```kotlin\n",
    "// ./libandjupyter/build.gradle.kts\n",
    "tasks.register<Copy>(\"copyReleaseJar\") {\n",
    "    dependsOn(\"assembleRelease\")\n",
    "    from(\"build/intermediates/aar_main_jar/release/syncReleaseLibJars/classes.jar\")\n",
    "    into(\"../libandjupyter/libs\")\n",
    "    rename { \"libandjupyter-release.jar\" }\n",
    "}\n",
    "\n",
    "```\n",
    "\n",
    "次のコードで、ノートブックから実行できる。"
   ]
  },
  {
   "cell_type": "code",
   "execution_count": 1,
   "id": "aeee9f28",
   "metadata": {},
   "outputs": [
    {
     "name": "stdout",
     "output_type": "stream",
     "text": [
      "Gradle exited with code: 0\n"
     ]
    }
   ],
   "source": [
    "import java.io.File\n",
    "\n",
    "val command = listOf(\"./gradlew\", \":libandjupyter:copyReleaseJar\")\n",
    "val workingDir = File(\"../\") // プロジェクトのルートディレクトリに変更\n",
    "\n",
    "val process = ProcessBuilder(command)\n",
    "    .directory(workingDir)\n",
    "    .redirectErrorStream(true)\n",
    "    .start()\n",
    "\n",
    "// val output = process.inputStream.bufferedReader().readText()\n",
    "// println(output)\n",
    "\n",
    "val exitCode = process.waitFor()\n",
    "println(\"Gradle exited with code: $exitCode\")\n"
   ]
  },
  {
   "cell_type": "markdown",
   "id": "48d67933",
   "metadata": {},
   "source": [
    "@file:DependsOn()\n",
    "\n",
    "ビルドした中間生成物に含まれるjarファイルを参照する。\n",
    "\n",
    "ライブラリを編集した際は、ノートブックを`Restart`すること。"
   ]
  },
  {
   "cell_type": "code",
   "execution_count": 2,
   "id": "2fe78ecb",
   "metadata": {},
   "outputs": [
    {
     "data": {
      "text/plain": [
       "OK!!!, test!"
      ]
     },
     "execution_count": 2,
     "metadata": {},
     "output_type": "execute_result"
    }
   ],
   "source": [
    "// @file:DependsOn(\"../libandjupyter/build/intermediates/aar_main_jar/release/syncReleaseLibJars/classes.jar\")\n",
    "@file:DependsOn(\"../libandjupyter/libs/libandjupyter-release.jar\")\n",
    "import tokyo.athletefirst.libandjupyter.HelloWorld\n",
    "\n",
    "HelloWorld.formatHelloWorld(\"test\")\n"
   ]
  }
 ],
 "metadata": {
  "kernelspec": {
   "display_name": "Kotlin",
   "language": "kotlin",
   "name": "kotlin"
  },
  "language_info": {
   "codemirror_mode": "text/x-kotlin",
   "file_extension": ".kt",
   "mimetype": "text/x-kotlin",
   "name": "kotlin",
   "nbconvert_exporter": "",
   "pygments_lexer": "kotlin",
   "version": "2.2.20-Beta2"
  }
 },
 "nbformat": 4,
 "nbformat_minor": 5
}
